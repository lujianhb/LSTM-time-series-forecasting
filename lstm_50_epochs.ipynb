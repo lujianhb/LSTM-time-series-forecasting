{
 "cells": [
  {
   "cell_type": "code",
   "execution_count": null,
   "metadata": {
    "colab": {
     "base_uri": "https://localhost:8080/",
     "height": 233
    },
    "colab_type": "code",
    "id": "yyd8m8iKudtw",
    "outputId": "2740dd3f-ea72-4ca2-884f-8a9464938384"
   },
   "outputs": [],
   "source": [
    "import pandas_datareader.data as pdr\n",
    "from datetime import datetime\n",
    "\n",
    "\"\"\"\n",
    "### Get bitcoin data\n",
    "\"\"\"\n",
    "end = datetime.today()\n",
    "start = datetime(end.year-4,end.month,end.day)\n",
    "df = pdr.DataReader('BTC-USD','yahoo',start, end)\n",
    "\n",
    "df.head()"
   ]
  },
  {
   "cell_type": "code",
   "execution_count": null,
   "metadata": {
    "colab": {
     "base_uri": "https://localhost:8080/",
     "height": 436
    },
    "colab_type": "code",
    "id": "7UgZXa65wHhT",
    "outputId": "209ed88f-f830-44b4-a92b-da158f13ac3c"
   },
   "outputs": [],
   "source": [
    "import matplotlib.pyplot as plt\n",
    "import seaborn as sns\n",
    "\n",
    "sns.set_style('darkgrid')\n",
    "plt.figure(figsize=(8,5),dpi=120)\n",
    "sns.lineplot(df.index,df.Open,label='BTC-USD');"
   ]
  },
  {
   "cell_type": "code",
   "execution_count": null,
   "metadata": {
    "colab": {
     "base_uri": "https://localhost:8080/",
     "height": 138
    },
    "colab_type": "code",
    "id": "3jdNsQe1A6-F",
    "outputId": "a8a2fd3f-621d-4f90-a2f8-b54e3b3b1436"
   },
   "outputs": [],
   "source": [
    "\"\"\"\n",
    "### Clean data by scaling each feature down to (0, 1)\n",
    "\"\"\"\n",
    "def normalize_cols(df,cols):\n",
    "    \"\"\"Scale the values of each feature\n",
    "    according to the columns max value\"\"\"\n",
    "    data = df.loc[:,cols]\n",
    "    for col in cols:\n",
    "        scaler = lambda x: x / data[col].max()\n",
    "        data[col] = data[col].apply(scaler)\n",
    "    print(data[cols].head())\n",
    "    return data[cols].values\n",
    "\n",
    "features = df.columns.values[:-1] # columns to train model on\n",
    "X = normalize_cols(df,features)"
   ]
  },
  {
   "cell_type": "code",
   "execution_count": null,
   "metadata": {
    "colab": {
     "base_uri": "https://localhost:8080/",
     "height": 52
    },
    "colab_type": "code",
    "id": "ZjZUdrrGwTEL",
    "outputId": "46d76e1d-ee62-4151-d106-0e506aad4081"
   },
   "outputs": [],
   "source": [
    "import tensorflow as tf\n",
    "from tensorflow import keras\n",
    "from tensorflow.keras import layers\n",
    "\n",
    "\"\"\"\n",
    "### Turn each signal into a labeled dataset\n",
    "\"\"\"\n",
    "\n",
    "def window_dataset(series, window_size, batch_size, shuffle_buffer):\n",
    "    \"\"\"Funtion to turn time series data into set of sequences \n",
    "    where the last value is the intended output of our model\"\"\"\n",
    "    ser = tf.expand_dims(series, axis=-1)\n",
    "    data = tf.data.Dataset.from_tensor_slices(series)\n",
    "    data = data.window(window_size + 1, shift=1, drop_remainder=True)\n",
    "    data = data.flat_map(lambda w: w.batch(window_size + 1))\n",
    "    data = data.shuffle(shuffle_buffer)\n",
    "    data = data.map(lambda w: (w[:-1], w[1:]))\n",
    "    return data.batch(batch_size).prefetch(1)\n",
    "\n",
    "\n",
    "window_size = 30   # num. days per training instance\n",
    "batch_size = 128   # num. of training instances per epoch\n",
    "buffer_size = 1000 # num of samples in memory for random selection\n",
    "split_time = 1400  # where to split the for training/validation\n",
    "\n",
    "x_train = X[:split_time,:]\n",
    "x_test = X[split_time:,:]\n",
    "\n",
    "print(f\"Training data shape: {x_train.shape}\")\n",
    "print(f\"Validation data shape: {x_test.shape}\")\n",
    "\n",
    "train_set = window_dataset(x_train,window_size,batch_size,buffer_size)"
   ]
  },
  {
   "cell_type": "code",
   "execution_count": null,
   "metadata": {
    "colab": {
     "base_uri": "https://localhost:8080/",
     "height": 468
    },
    "colab_type": "code",
    "id": "Ykn7LyHk0s-y",
    "outputId": "5265b919-ac5b-4510-b35e-a116a08ab835"
   },
   "outputs": [],
   "source": [
    "keras.backend.clear_session()\n",
    "\n",
    "\"\"\"\n",
    "### Choose and connect the model components   \n",
    "\"\"\"\n",
    "\n",
    "# 1D convolution layers\n",
    "conv1 = layers.Conv1D(\n",
    "    filters=64,kernel_size=15,strides=1,\n",
    "    padding=\"causal\",activation=\"relu\",\n",
    "    input_shape=[None,len(features)])\n",
    "\n",
    "conv2 = layers.Conv1D(\n",
    "    filters=32,kernel_size=5,strides=1,\n",
    "    padding=\"causal\",activation=\"tanh\")\n",
    "\n",
    "# Bidirectional LSTM layers\n",
    "lstm1 = layers.Bidirectional(layers.LSTM(30,return_sequences=True))\n",
    "lstm2 = layers.Bidirectional(layers.LSTM(20,return_sequences=True))\n",
    "\n",
    "# Model construction\n",
    "inputs = layers.Input(shape=[None,len(features)])\n",
    "x = conv1(inputs)\n",
    "x = lstm1(x)\n",
    "x = lstm2(x)\n",
    "x = conv2(x)\n",
    "x = layers.Dense(64,activation='relu')(x)\n",
    "x = layers.Dropout(.1)(x)\n",
    "x = layers.Dense(1,activation='tanh')(x)\n",
    "outputs = layers.Lambda(lambda x: 25*abs(x))(x)\n",
    "\n",
    "# SGD optimizer and Huber loss\n",
    "optimizer = keras.optimizers.SGD(lr=1e-6, momentum=0.9)\n",
    "loss = keras.losses.Huber()\n",
    "\n",
    "\n",
    "model = keras.Model(inputs=inputs,outputs=outputs)\n",
    "model.compile(optimizer,loss,\n",
    "              metrics=[\"mae\"])\n",
    "model.summary()"
   ]
  },
  {
   "cell_type": "code",
   "execution_count": null,
   "metadata": {
    "colab": {
     "base_uri": "https://localhost:8080/",
     "height": 34
    },
    "colab_type": "code",
    "id": "GXbBIX9t4lMf",
    "outputId": "1b2b06ea-5d80-4084-d7ee-5d32419317ec"
   },
   "outputs": [],
   "source": [
    "\"\"\"\n",
    "### Train model\n",
    "\"\"\"\n",
    "epochs = 50\n",
    "\n",
    "history = model.fit(train_set, epochs=epochs, verbose=0)\n",
    "print(f\"Model trained for {epochs} epochs\")"
   ]
  },
  {
   "cell_type": "code",
   "execution_count": null,
   "metadata": {
    "colab": {
     "base_uri": "https://localhost:8080/",
     "height": 462
    },
    "colab_type": "code",
    "id": "kXB2HQvyHENZ",
    "outputId": "0295f721-b2b2-4caf-dd59-bdacba3c17ed"
   },
   "outputs": [],
   "source": [
    "\"\"\"\n",
    "### Inspect training results\n",
    "\"\"\"\n",
    "\n",
    "def model_forecast(model, X, window_size):\n",
    "    \"\"\"Takes in numpy array, creates a windowed tensor \n",
    "    and predicts the following value on each window\"\"\"\n",
    "    data = tf.data.Dataset.from_tensor_slices(X)\n",
    "    data = data.window(window_size, shift=1, drop_remainder=True)\n",
    "    data = data.flat_map(lambda w: w.batch(window_size))\n",
    "    data = data.batch(32).prefetch(1)\n",
    "    forecast = model.predict(data)\n",
    "    return forecast\n",
    "\n",
    "train_window = [i for i in range(split_time-window_size)]\n",
    "\n",
    "forecast = model_forecast(model,x_train,window_size)\n",
    "\n",
    "plt.figure(figsize=(8,5),dpi=120)\n",
    "sns.lineplot(train_window,forecast[:-1,1,0],label='Forecast')\n",
    "sns.lineplot(train_window,X[:split_time-window_size,1],label='BTC-USD')\n",
    "plt.show()"
   ]
  },
  {
   "cell_type": "code",
   "execution_count": null,
   "metadata": {
    "colab": {
     "base_uri": "https://localhost:8080/",
     "height": 458
    },
    "colab_type": "code",
    "id": "71XF8uoOJ-dS",
    "outputId": "040b8e97-92e3-4c7e-d0f5-d8a0c07d79fb"
   },
   "outputs": [],
   "source": [
    "\"\"\"\n",
    "### Make predictions on unseen data\n",
    "\"\"\"\n",
    "\n",
    "val_window = [i for i in range(split_time,len(df)-window_size)]\n",
    "\n",
    "forecast = model_forecast(model,x_test,window_size)\n",
    "\n",
    "plt.figure(figsize=(8,5),dpi=120)\n",
    "sns.lineplot(val_window,forecast[:-1,1,0],label='Forecast')\n",
    "sns.lineplot(val_window,X[split_time:-window_size,1],label='BTC-USD')\n",
    "plt.show()"
   ]
  },
  {
   "cell_type": "code",
   "execution_count": null,
   "metadata": {},
   "outputs": [],
   "source": []
  }
 ],
 "metadata": {
  "colab": {
   "name": "lstm_06_2020.ipynb",
   "provenance": []
  },
  "kernelspec": {
   "display_name": "Python 3 (ipykernel)",
   "language": "python",
   "name": "python3"
  },
  "language_info": {
   "codemirror_mode": {
    "name": "ipython",
    "version": 3
   },
   "file_extension": ".py",
   "mimetype": "text/x-python",
   "name": "python",
   "nbconvert_exporter": "python",
   "pygments_lexer": "ipython3",
   "version": "3.7.10"
  }
 },
 "nbformat": 4,
 "nbformat_minor": 1
}
